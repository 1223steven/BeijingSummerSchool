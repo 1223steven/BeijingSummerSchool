{
 "cells": [
  {
   "cell_type": "markdown",
   "metadata": {},
   "source": [
    "## Introduction: miniMD2\n",
    "This is a brief introduction to the lightweight package miniMD2 which can be used to investigate the porperties of different numerical schemes. Currently the only dependency is numpy (this might change in the future). First we begin by importing numpy and pyplot to be able to plot the output. Press SHIFT+RETURN to execute the code below"
   ]
  },
  {
   "cell_type": "code",
   "execution_count": 8,
   "metadata": {
    "collapsed": true
   },
   "outputs": [],
   "source": [
    "import numpy as np\n",
    "import matplotlib.pyplot as plt"
   ]
  },
  {
   "cell_type": "markdown",
   "metadata": {},
   "source": [
    "The miniMD2 package consists of three small python clases model, integrator, and outputsheduler. \n",
    "- The model class: Defines the force field. The force field is assumed to be the gradient of a potential function.\n",
    "- The integrator class: Holds the values of the phase space variables and evolves them in time.\n",
    "- The outputsheduler class: Handles the output of the simulation. \n",
    "\n",
    "The workflow consisits of first initialising the model, then specifying the integrator and attaching an outputsheduler to the latter. The integrator then provides access to the \"run\" function which evolves the trajectory for a number of time steps specified in the outputsheduler. In what follows we demontrate the basic work flow in the case of a simple one dimensional Harmonic Oscillator, i.e., we consider a Hamiltonian system of the form \n",
    "$$ H(q,p) = U(q)+\\frac{1}{2} p^2,$$\n",
    "whith $U(q) = \\frac{k}{2} q^2$, where $k>0$ is referred to as the stiffness coeffcient of the harmonic spring. We want to evolve the system for a physical time of $T=20$.\n",
    "\n",
    "\n",
    "Fist, import the modules with the following commands:"
   ]
  },
  {
   "cell_type": "code",
   "execution_count": 1,
   "metadata": {
    "collapsed": false
   },
   "outputs": [],
   "source": [
    "# import mini MD modules\n",
    "from miniMD2 import models\n",
    "from miniMD2 import integrators\n",
    "from miniMD2 import outputshedulers as outp"
   ]
  },
  {
   "cell_type": "markdown",
   "metadata": {},
   "source": [
    "Next, we can define our model, a 1-dimensional Harmonic oscillator with stiffness constant $k=1$:"
   ]
  },
  {
   "cell_type": "code",
   "execution_count": 2,
   "metadata": {
    "collapsed": false
   },
   "outputs": [],
   "source": [
    "model = models.HarmonicOscillator()"
   ]
  },
  {
   "cell_type": "markdown",
   "metadata": {
    "collapsed": true
   },
   "source": []
  },
  {
   "cell_type": "code",
   "execution_count": 3,
   "metadata": {
    "collapsed": false
   },
   "outputs": [],
   "source": [
    "dim = 3\n",
    "model = models.HarmonicOscillator(dim=3,k=3)"
   ]
  },
  {
   "cell_type": "markdown",
   "metadata": {},
   "source": [
    "In the second step we define the integrator:"
   ]
  },
  {
   "cell_type": "code",
   "execution_count": 4,
   "metadata": {
    "collapsed": false
   },
   "outputs": [],
   "source": [
    "integrator = integrators.EulerHamDyn(model, h=.1)"
   ]
  },
  {
   "cell_type": "markdown",
   "metadata": {},
   "source": [
    "The integrator `EulerHamDyn` implements the standard Euler scheme applied to Hamilton's equation, i.e., one step using a stepsize $h$ is of the form \n",
    "$$\n",
    "\\begin{aligned}\n",
    "q_{n+1} &= q_n + h p_n, \\\\ p_{n+1} &= p_n -h\\nabla U (q_n).\n",
    "\\end{aligned}\n",
    "$$\n",
    "\n",
    "You may take a look at the implementation of this scheme in the file ./miniMD/integrators.py.  \n",
    "#### Remark: As you will find out later in this tutorial the standard Euler scheme is not a good choice in this context.\n",
    "\n",
    "Finally, we define an outputsheduler:"
   ]
  },
  {
   "cell_type": "code",
   "execution_count": 6,
   "metadata": {
    "collapsed": false
   },
   "outputs": [],
   "source": [
    "op = outp.BufferedOutputsheduler(integrator, \n",
    "                                 Nsteps=int(20.0/integrator.h), \n",
    "                                 varname_list=['q','p'], \n",
    "                                 modprnt=1)"
   ]
  },
  {
   "cell_type": "markdown",
   "metadata": {},
   "source": [
    "The argument `Nsteps` speficies the total number of time steps for which the integrator is run when called by the function `run`. \n",
    "The argument `varname_list` specifies the variables which are monitored when the integrator is run. Upon initialisation a variable `op.traj_` preceded by the name of the monitored variable is created as an argument of the outputsheduler. When the function integrator.run() is called the values of the monitored variables are written into the respective trajectory variable with  at a frequency specified by the argument `modprnt`, i.e., given the above specifications, the values of `integrator.position` and `integrator.momentum` are written at every time step into the variables `op.traj_position` and `op.traj_momentum` when the function `integrator.run` is called. \n",
    "\n",
    "In order to run the integrator call the function specify the initial values for the relevant phase space variables in dicitionary format and provide this as an argument when calling the function `integrator.run`:"
   ]
  },
  {
   "cell_type": "code",
   "execution_count": 9,
   "metadata": {
    "collapsed": false
   },
   "outputs": [],
   "source": [
    "initial_values ={'p': np.ones(dim), 'q': np.zeros(dim)}\n",
    "integrator.run(initial_values=initial_values)"
   ]
  },
  {
   "cell_type": "markdown",
   "metadata": {},
   "source": [
    "As mentioned after the function `integrator.run` has been called, we can easily access the trajectory monitored variables and compute statistics or simply just plot it:"
   ]
  },
  {
   "cell_type": "code",
   "execution_count": 12,
   "metadata": {
    "collapsed": false
   },
   "outputs": [
    {
     "data": {
      "image/png": "[encoded data removed]",
      "text/plain": [
       "<matplotlib.figure.Figure at 0x118701240>"
      ]
     },
     "metadata": {},
     "output_type": "display_data"
    }
   ],
   "source": [
    "fig,ax = plt.subplots()\n",
    "ax.plot(op.traj_q)\n",
    "ax.set_xlabel('Time steps')\n",
    "ax.set_ylabel('Position')\n",
    "plt.show()"
   ]
  },
  {
   "cell_type": "code",
   "execution_count": null,
   "metadata": {
    "collapsed": true
   },
   "outputs": [],
   "source": []
  }
 ],
 "metadata": {
  "anaconda-cloud": {},
  "kernelspec": {
   "display_name": "Python [conda env:anaconda]",
   "language": "python",
   "name": "conda-env-anaconda-py"
  },
  "language_info": {
   "codemirror_mode": {
    "name": "ipython",
    "version": 3
   },
   "file_extension": ".py",
   "mimetype": "text/x-python",
   "name": "python",
   "nbconvert_exporter": "python",
   "pygments_lexer": "ipython3",
   "version": "3.5.2"
  }
 },
 "nbformat": 4,
 "nbformat_minor": 2
}
