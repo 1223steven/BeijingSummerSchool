{
 "cells": [
  {
   "cell_type": "markdown",
   "metadata": {
    "collapsed": true
   },
   "source": [
    "# Ergodic sampling via Langevin dynamics\n",
    "\n",
    "In today's tutorial we will use discretizations of the overdamped Langevin equation,\n",
    "\n",
    "$$\n",
    "\\dot{q} = - \\nabla U(q) + \\sqrt{2 \\beta^{-1}} \\dot{W},\n",
    "$$\n",
    "\n",
    "and the underdamped Langevin equation,\n",
    "\n",
    "$$\n",
    "\\begin{aligned}\n",
    "\\dot{q} &= p, \\\\\n",
    "\\dot{p} &= - \\nabla U(q)- \\gamma p + \\sqrt{2 \\gamma \\beta^{-1}}\\dot{W},\n",
    "\\end{aligned}\n",
    "$$\n",
    "\n",
    "to draw samples from the associated Gibbs measure\n",
    "\n",
    "$$\n",
    "\\mu(d q) = \\frac{1}{Z} \\exp(-\\beta U(q))\\, d q,\n",
    "$$\n",
    "\n",
    "where $Z = \\int \\exp(-\\beta U(q))\\, d q$"
   ]
  },
  {
   "cell_type": "code",
   "execution_count": null,
   "metadata": {
    "collapsed": true
   },
   "outputs": [],
   "source": [
    "# For today's exercises you will need to load the following packages\n",
    "import numpy as np\n",
    "import matplotlib.pyplot as plt\n",
    "import scipy.integrate\n",
    "\n",
    "from miniMD import models\n",
    "from miniMD import integrators\n",
    "from miniMD import outputshedulers as outp"
   ]
  },
  {
   "cell_type": "markdown",
   "metadata": {},
   "source": [
    "# Exercise 1:\n",
    "\n",
    "In ./miniMD/models.py, you can find the the class CubicDoubleWell implementing a potential function of the form of a \"double well\", i.e.,\n",
    "\n",
    "$$\n",
    "U(q) = (b - a/2)  (q^2-1)^2 + a/2 (q+1)\n",
    "$$\n",
    "where $b>0$ determines the hight of the barrier between the two wells and $a>0$ specifies the skewness of the well, i.e., the difference potential energy at $q=1$ and $q=-1$.\n",
    "\n",
    "- Create an instance of CubicDoubleWell with parameters $a=2, b=4$. Plot the potential function, and the associated Gibbs density at unit temperature. For the computation of the Gibbs density you can use the below code snippet:"
   ]
  },
  {
   "cell_type": "code",
   "execution_count": null,
   "metadata": {
    "collapsed": false
   },
   "outputs": [],
   "source": [
    "Tk_B = 0.0\n",
    "gibbs_not_normalized = lambda q: np.exp(-Tk_B*model.comp_potential(q))\n",
    "Z,err =  scipy.integrate.quad(gibbs_not_normalized,-4,4)\n",
    "gibbs = lambda q: gibbs_not_normalized(q)/Z"
   ]
  },
  {
   "cell_type": "markdown",
   "metadata": {},
   "source": [
    "In ./miniMD/integrators.py, you can find the the class EulerMaruyamBD implementing the  Euler Maruyama scheme applied to the overdamped Langevin equation, i.e.,\n",
    "\n",
    "$$\n",
    "q_{n+1} = q_n - h \\nabla U(q_n) + \\sqrt{2 h \\beta^{-1}} R_n, ~R_n \\sim \\mathcal{N}(0,1).\n",
    "$$\n",
    "\n",
    "- Create an instance of EulerMaruyamBD with stepsize $h=0.025$ and $\\beta^{-1} =1$. Use this integrator to generate a trajectory of physical time $T =  1000$. Create a plot 'time step vs q' and a (normalized) histogram accumulating all particle positions over time. Superimpose your histogram plot with a plot of the Gibbs density. For plotting the histogram you can use the below code snippet "
   ]
  },
  {
   "cell_type": "code",
   "execution_count": null,
   "metadata": {
    "collapsed": true
   },
   "outputs": [],
   "source": [
    "fig,ax = plt.subplots()\n",
    "edges=np.linspace(-2,2,50,endpoint=True);\n",
    "ax.hist(op.traj_q, bins=edges, normed=True, label='Histogram')"
   ]
  },
  {
   "cell_type": "code",
   "execution_count": null,
   "metadata": {
    "collapsed": true
   },
   "outputs": [],
   "source": []
  },
  {
   "cell_type": "markdown",
   "metadata": {},
   "source": [
    "- Reduce the stepsize $h$ in the Euler Maruyama integrator and see whether you can get a bettwe match between the histogram and the plot of the Gibbs measure"
   ]
  },
  {
   "cell_type": "code",
   "execution_count": null,
   "metadata": {
    "collapsed": true
   },
   "outputs": [],
   "source": []
  },
  {
   "cell_type": "markdown",
   "metadata": {},
   "source": [
    "- In the file ./miniMD/integrators.py implement the Leimkuhler-Matthews method (see eq (3) in Leimkuhler, Matthews - 2013 - Rational Construction of Stochastic Numerical Methods for Molecular Sampling) as a subclass of the class BrownianDynamics. \n",
    "- Repeat the computations you did above using the Euler-Maruyama scheme with the Leimkuhler-Matthews method using the same stepsizes. What difference do you see in terms of the accuracy in the approximation of the Gibbs density?"
   ]
  },
  {
   "cell_type": "code",
   "execution_count": null,
   "metadata": {
    "collapsed": true
   },
   "outputs": [],
   "source": []
  },
  {
   "cell_type": "markdown",
   "metadata": {},
   "source": [
    "## Exercise 2\n",
    "\n",
    "- Implement the BAOAB, OBABO, ABOBA and OABAO splitting scheme for the underdamped Langevin euation as subclasses of the class LangevinThermostat. You might want to add an abstract class called BAOLangevinSplitting in between to save implementation work. Test your methods with  the double well potential used in exercise 1.\n",
    "- Test for a simple the harmonic oscillator system whether your implementation of the BAOAB, ABOBA sample the marginal in $q$ without discretization bias."
   ]
  },
  {
   "cell_type": "markdown",
   "metadata": {},
   "source": []
  }
 ],
 "metadata": {
  "anaconda-cloud": {},
  "kernelspec": {
   "display_name": "Python [default]",
   "language": "python",
   "name": "python3"
  },
  "language_info": {
   "codemirror_mode": {
    "name": "ipython",
    "version": 3
   },
   "file_extension": ".py",
   "mimetype": "text/x-python",
   "name": "python",
   "nbconvert_exporter": "python",
   "pygments_lexer": "ipython3",
   "version": "3.5.2"
  }
 },
 "nbformat": 4,
 "nbformat_minor": 2
}
