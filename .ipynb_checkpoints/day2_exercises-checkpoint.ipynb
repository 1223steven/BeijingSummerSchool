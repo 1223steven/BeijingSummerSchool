{
 "cells": [
  {
   "cell_type": "markdown",
   "metadata": {},
   "source": [
    "# Stability threshold and high order symplectic integrators\n",
    "Today's exercises will be mainly about the stability threshold, i.e., the maximum admissable time step $h_{max}$ for which the numerical scheme under consideration is stable. For computational purposes it is desireable to be able to use large stepsizes since using a larger step size allows to simulate longer (in physical time) trajectories with the same computational budget. \n"
   ]
  },
  {
   "cell_type": "markdown",
   "metadata": {},
   "source": [
    "## Exercise 1 (Double Pendulum)\n",
    "In what follows we will consider a simple double pendulum in $\\mathbb{R}^2$ consisting of two particles $q_1 = (q_{1,x},q_{1,y})$, and $q_2 = (q_{2,x},q_{2,y})$, which interact with a harmonic spring of rest length $r_{12}>0$ and stiffnes constant $k_{12}>0$. The first particle $q_1$ feels fhe force of a harmonic spring which is connected with the origin has a rest length of $r_1$ and stiffnes constant $k_1$. The below figure illustrates this model \n",
    "\n",
    "<img src=\"./figures/DP-2springs-labeled.pdf\">\n",
    "\n",
    "You can find an implementation of this model as `DoublePendulum` in the file ./miniMD/model.py\n",
    "\n",
    "# Tasks\n",
    "\n",
    "a)\n",
    "- create an instance of `DoublePendulum` with the parametrisation $k_1=1,k_{12}=1,r_1=r2=5$. Use the Velocity Verlet integrator to simulate a trajecotry of physical time $T = 100$ starting at $q = [5,0,10,0]$ and $p = [0,0,0,0]$. Create plots time vs q and time vs total Energy. Emperically determine the value of the maximum addmissable time step $h_{max}$.\n",
    "- If you change the value of stiffness coefficient $k_1$ to $k_1=10, k_1=100,k_1=1000$, how does the value of $h_{max}$ change? In the case $k_1=1000$ what is the minimum number of time steps you require? \n",
    "\n",
    "b)\n",
    "\n",
    "For $k_1=1000, k_{12}=1$ the double pendulum satisfies the characteristics of a multi-scale system, i.e., there is a scale separation between the degrees of freedom describing the relative movement of the two particles and the degrees of freedom describing the movement of the first particle relative to the origin. In such a situation it makes sense to decompose the gradient force as \n",
    "\n",
    "$$\n",
    "-\\nabla U(q) = -\\nabla U_{f}(q) -\\nabla U_{s}(q),\n",
    "$$\n",
    "\n",
    "where $-\\nabla U_{f}(q)$ denotes the \"fast\" components of the force, which specifies the motion of the first particle relative to the origin, and $-\\nabla U_{s}(q)$ denotes the \"slow\" components of the force, which specifies the motion of the particles relative to each other. \n",
    "\n",
    "One consequence of this scale separation which is of great importance in the computational context is that the resulting equations of motion become a stiff ODE. One common approach in Molecular Dynamics which allows to leviate this issue in the case of a clear scale separation is multiple time stepping: \n",
    "\n",
    "- In integrators.py you can find the class RESPA which is supposed to implement the multiple time stepping method RESPA. Add the missing traverse function. You can find a decsription of the RESPA method on pages 145-152 in Ben's book. $-\\nabla U_{f}(q)$, and $-\\nabla U_{s}(q)$, are implemented in the class `DoublePendulum` as `comp_fastForce(self, q)` and `comp_slowForce(self, q)`, respectively.\n",
    "- Using RESPA and the parametrization of the double pendulum as described in a) with $k_1 = 1000$ what is the maximum addmissable time step you can achieve now. Discounting the number of substeps, what is the total number of time steps required to integrate the system for a physical time of $T=100$? Create again a plot \"time vs q\". Does it look similar as what you obtained in a)?\n",
    "\n",
    "c) \n",
    "\n",
    "Yet another way of increasing the maximum admissable time step is by replacing the stiff spring between the first particle and the origin by a static rod. Doing that one obtains a contrained Hamiltonian system of the form\n",
    "\n",
    "$$\n",
    "\\begin{aligned}\n",
    "\\dot{q} &= p,\\\\\n",
    "\\dot{p} &= -\\nabla U(q) - g^{\\prime}(q) \\lambda,\\\\\n",
    "g(q) &=0, \n",
    "\\end{aligned}\n",
    "$$\n",
    "with $g(q) = q_{1,x}^2+q_{1,y}^2 - r_1^2$. \n",
    "\n",
    "- In the file ./constrainedMD.py, you can find the class `DPConstraint` implementing exactly the above mentioned constraint for a double pendulum. Use the integrator `Rattle`, which you can find in the same file to simulate the system. Initialise `Rattle` with in instance of `DoublePendulum` where you set $k_1=0$. Create again a plot \"time vs q\". Does it look similat to what you obtained in a). Emperically determine  the maximum addmissable step size and the minimum number of time steps required to integrate the system for a physical time of $T=100$\n",
    "- How does the maximum addmissable step size change when you reduce the value of $r_1$. In particular, what happens if $r_1<<1$?"
   ]
  },
  {
   "cell_type": "code",
   "execution_count": 5,
   "metadata": {},
   "outputs": [],
   "source": [
    "import numpy as np\n",
    "import matplotlib.pyplot as plt\n",
    "from miniMD import models, integrators, outputshedulers as outp"
   ]
  },
  {
   "cell_type": "code",
   "execution_count": 8,
   "metadata": {},
   "outputs": [
    {
     "name": "stderr",
     "output_type": "stream",
     "text": [
      "/Users/bl/Documents/GitHub/BeijingSummerSchool/miniMD/models.py:126: RuntimeWarning: invalid value encountered in true_divide\n",
      "  force[2:] = (q[:2]-q[2:]) * self.k12  * (dist12-self.r12)/dist12\n",
      "/Users/bl/Documents/GitHub/BeijingSummerSchool/miniMD/models.py:120: RuntimeWarning: invalid value encountered in true_divide\n",
      "  force[:2] = - q[:2] * self.k1 * (dist1-self.r1)/dist1\n"
     ]
    },
    {
     "data": {
      "image/png": "[encoded data removed]",
      "text/plain": [
       "<Figure size 432x288 with 1 Axes>"
      ]
     },
     "metadata": {},
     "output_type": "display_data"
    }
   ],
   "source": [
    "model = models.DoublePendulum(k1=1.0, r1=1.0,k12=1.0, r12=1.0)\n",
    "integrator = integrators.VelocityVerlet(model, h=.1)\n",
    "op = outp.BufferedOutputsheduler(integrator, \n",
    "                                 Nsteps=int(20.0/integrator.h), \n",
    "                                 varname_list=['q','p'], \n",
    "                                 modprnt=1)\n",
    "dim=model.dim\n",
    "initial_values ={'p': np.ones(dim), 'q': [0 5 0 10]}\n",
    "integrator.run(initial_values=initial_values)\n",
    "fig,ax = plt.subplots()\n",
    "ax.plot(op.traj_q[0,:])\n",
    "ax.set_xlabel('Time steps')\n",
    "ax.set_ylabel('Position')\n",
    "plt.show()"
   ]
  },
  {
   "cell_type": "markdown",
   "metadata": {},
   "source": [
    "## Exercise 2 (Shadow Hamiltonian, Harmonic Oscillator)\n",
    "\n",
    "The shadow Hamiltonian of the Velocity Verlet scheme applied to a single degree of freedom system of the form\n",
    "$$H(q,p) = U(q) + \\frac{1}{2}p^2$$\n",
    "is \n",
    "$$\n",
    "\\begin{aligned}\n",
    "H_h(q,p) &= H(q,p) + \\frac{1}{24}\\left (  2 p U^{\\prime\\prime}p - (U^{\\prime})^2 \\right )\\\\\n",
    "&+h^4 \\left ( \\frac{1}{720}p^4 U^{\\prime\\prime\\prime\\prime} - \\frac{1}{120} p^2  U^{\\prime} -U^{\\prime\\prime\\prime}-\\frac{1}{240} (U^{\\prime} )^2U^{\\prime\\prime} - \\frac{1}{60} p^2 \\left (  (U^{\\prime\\prime} )^2  U^{\\prime}U^{\\prime\\prime\\prime}\\right ) \\right )\\\\\n",
    "&+ O(h^6)\n",
    "\\end{aligned},\n",
    "$$\n",
    "where the last term vanishes if $U(q)$ is a quadrative function\n",
    "### Task\n",
    "-Compute the Shadow Hamiltonian for the Verlet scheme for a Harmonic Oscillator. Create a plot of the form \"time vs H_h\". What do you observe? "
   ]
  },
  {
   "cell_type": "markdown",
   "metadata": {},
   "source": [
    "## Exercise 3 (Higher order integrators)\n",
    "\n",
    "- Implement the Yoshida 4 scheme described in Ben's book on page 110. Following the same setup and sequence of steps as in Exercise 2 of day 1 test whether the implementation of your integrator is correct (You should again observe that the total energy is approximately conserved). Create a plot where you compare the convergence orders of the long time error in energy as $h\\rightarrow 0$ between the symplectic Euler, the Velocity Verlet method and the Yoshida 4 scheme."
   ]
  },
  {
   "cell_type": "markdown",
   "metadata": {},
   "source": [
    "## Exercise 4 (Resonances in RESPA)\n",
    "One issue with RESPA is that resonance effects might occur for certain values of the step size $h$. A simple example is discussed in Ben's book on page 145-148. Implement the respective system as a subclass of `MultiScaleModel` and investigate the behaviour of RESPA at the critical values of the step size $h$. "
   ]
  },
  {
   "cell_type": "code",
   "execution_count": null,
   "metadata": {
    "collapsed": true
   },
   "outputs": [],
   "source": []
  }
 ],
 "metadata": {
  "anaconda-cloud": {},
  "kernelspec": {
   "display_name": "Python 3",
   "language": "python",
   "name": "python3"
  },
  "language_info": {
   "codemirror_mode": {
    "name": "ipython",
    "version": 3
   },
   "file_extension": ".py",
   "mimetype": "text/x-python",
   "name": "python",
   "nbconvert_exporter": "python",
   "pygments_lexer": "ipython3",
   "version": "3.6.5"
  }
 },
 "nbformat": 4,
 "nbformat_minor": 2
}
