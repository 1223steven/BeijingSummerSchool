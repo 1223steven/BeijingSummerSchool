{
 "cells": [
  {
   "cell_type": "markdown",
   "metadata": {},
   "source": [
    "# Symplectic integrators\n",
    "\n",
    "## Exercise 1 \n",
    "In this exercise we investigate the properties of several numerical integration applied to Hamilton's equation: \n",
    "$$\n",
    "\\begin{equation}\n",
    "\\begin{aligned}\n",
    "\\dot{q} &= p, \\\\ \\dot{p} &= -\\nabla U (q),\n",
    "\\end{aligned}\n",
    "\\end{equation}\n",
    "$$\n",
    "where $ U : \\mathbb{R}^n \\rightarrow \\mathbb{R}$ is a smooth potential function.\n",
    "In the morning lecture several properties of the group of flow maps $$(\\Phi_t)_{t \\in \\mathbb{R}},$$ associated with the above equation where discussed. Besides being symplectic, $\\Phi_t$ satisfies the following properties: For any $t \\in \\mathbb{R}$ \n",
    "- $\\Phi_t$ is energy conserving, i.e.,  $$H(q,p) = H(\\Phi_t(q),\\Phi_t(p))$$ for all $q,p\\in \\mathbb{R}^n$\n",
    "- $\\Phi_t$ is time reversible in the sense that $$(\\Phi_t)^{-1} = \\Phi_{-t}.$$\n",
    "\n",
    "- $\\Phi_t$ is volume preserving, i.e., \n",
    "$$\\int_{\\mathbb{R}^n \\times \\mathbb{R}^n} {\\bf 1}_{\\Phi_t(S)}(q,p) d q d p = \\int_{\\mathbb{R}^n \\times \\mathbb{R}^n} {\\bf 1}_{S}(q,p) d q d p$$ for all measureable $S \\subset \\mathbb{R}^n \\times \\mathbb{R}^n$.\n",
    "\n",
    "Let $\\widehat{\\Phi}_h$ denote the flow map of the discretized dynamics, i.e.,\n",
    "$$(q_{n+1}, p_{n+1}) = \\widehat{\\Phi}_h(q_{n}, p_{n}),$$\n",
    "where $h$ denotes the step size of the time discretization.\n",
    "The properties are not necessarily inherited by the flow map $\\widehat{\\Phi}_h$ of the discretized dynamics. In what follows we will assess by numerical experiments which of the above properties are preserved in the case of the discretized dynamics when \n",
    "- the Standard Euler method \n",
    "- the Symplectic Euler method \n",
    "- the Velocity Verlet method \n",
    "\n",
    "is used. \n",
    "\n",
    "## Task:\n",
    "\n",
    "- asses whether the energy and volume conservation properties and the time reversibility are satisfied for the standard Euler scheme by running the code fragments in the cells below\n",
    "\n",
    "- implement the symplectic Euler scheme and the Velocity Verlete scheme as subclasses of the class integrators.HamDynIntegrator. You only need to redefine the function `traverse()` in the class definition. See the implementation of `integrators.EulerHamDyn` to see how this is done. You can find a detailed description of both schemes in Ben's book. \n",
    "\n",
    "- Verify the energy and volume conservation properties as well as the time reversibility of the Symplectic Euler scheme \n",
    "- Implement a new class `LJoscillator` as a subclass `model` implementing a simple Lennar-Jones oscillator, which for $q>0$ is defined by the potential energy\n",
    "$$U(q) = 4\\epsilon \\left [ \\left(\\frac{q}{\\sigma}\\right )^{12} - \\left(\\frac{q}{\\sigma}\\right )^{6} \\right]$$\n",
    "with $\\epsilon>0$ and $\\sigma>0$ being positive constants. Use the following constructor for in your class definition `def __init__(self, epsilon=np.array(1), sigma=np.array(1)):\n",
    "        super(HarmonicOscillator,self).__init__(dim=epsilon.shape[0])\n",
    "           \n",
    "        self.epsilon = epsilon\n",
    "        self.sigma = sigma`\n",
    "  "
   ]
  },
  {
   "cell_type": "code",
   "execution_count": 22,
   "metadata": {
    "collapsed": false
   },
   "outputs": [],
   "source": [
    "# Import the relevant modules from miniMD \n",
    "import miniMD2.models as models\n",
    "import miniMD2.integrators as integrators\n",
    "import miniMD2.outputshedulers as outp\n",
    "# Import the numpy package\n",
    "import numpy as np\n",
    "# Import the pyplot package (we will need this later to create plots)\n",
    "import matplotlib.pyplot as plt"
   ]
  },
  {
   "cell_type": "markdown",
   "metadata": {},
   "source": [
    "## Standard Euler\n",
    "We first take a look at the properties of the simplest integration scheme\n",
    "$$\n",
    "\\begin{aligned}\n",
    "q_{n+1} &= q_n + p_n, \\\\ p_{n+1} &= p_n -\\nabla U (q_n).\n",
    "\\end{aligned}\n",
    "$$\n",
    "You can find an implementation of this scheme in the box below\n"
   ]
  },
  {
   "cell_type": "code",
   "execution_count": 83,
   "metadata": {
    "collapsed": true
   },
   "outputs": [],
   "source": []
  },
  {
   "cell_type": "code",
   "execution_count": 23,
   "metadata": {
    "collapsed": false
   },
   "outputs": [],
   "source": [
    "dim = 1\n",
    "model = models.HarmonicOscillator(stiffness=np.ones(dim), rp=None)\n",
    "integrator = integrators.EulerHamDyn(model, stepsize=.1)\n",
    "\n",
    "#Initialising an outputsheduler. The \n",
    "op= outp.BufferedOutputshedulerU(integrator, Nsteps=1000, varname_list=['position','momentum'], modprnt=1)\n",
    "\n",
    "\n",
    "initial_values={'momentum': np.array([1.0]), 'position': np.array([0.0])}\n",
    "\n",
    "integrator.run(initial_values=initial_values)"
   ]
  },
  {
   "cell_type": "markdown",
   "metadata": {},
   "source": [
    "### 1) Energy conservation\n",
    "This doesn't look good. Instead of moving on a periodic trajectory the particle is spiralling out. This is not the physical behaviour we would expect from a Hamiltonian system. Indeed, the non periodicity of the particle position and the particle momentum suggests that the total energy (Hamiltonian) of the system\n",
    "$$H(q,p) = U(q)+\\frac{1}{2}\\|p\\|_2^2$$ \n",
    "is not conserved under the discretised dynamics. Demonstrate this by creating a plot of the form Timestep vs. Error in Total energy by filling out the missing parts in the code below:\n",
    "\n",
    "(Hint: The potential energy is already collected by the outputsheduler. You can access the resulting trajectory as `op.traj_U`)"
   ]
  },
  {
   "cell_type": "code",
   "execution_count": 24,
   "metadata": {
    "collapsed": false
   },
   "outputs": [
    {
     "data": {
      "image/png": "[encoded data removed]",
      "text/plain": [
       "<matplotlib.figure.Figure at 0x118aafe10>"
      ]
     },
     "metadata": {},
     "output_type": "display_data"
    }
   ],
   "source": [
    "fig, ax = plt.subplots()\n",
    "E0 = .5*np.sum(op.traj_momentum**2,axis=1)[0]+op.traj_U[0]\n",
    "traj_Energy = .5*np.sum(op.traj_momentum**2,axis=1)+op.traj_U\n",
    "ax.plot(traj_Energy  - E0)\n",
    "ax.set_xlabel('Time')\n",
    "ax.set_ylabel('Error in Total Energy')\n",
    "plt.show()"
   ]
  },
  {
   "cell_type": "markdown",
   "metadata": {},
   "source": [
    "### 2) Volume preservation\n",
    "In order to assess the volume preservation property, we place 100 particles on a circe in phase space and monitor the enclosed volume as the system is evolved in time under the disrete dynamics:"
   ]
  },
  {
   "cell_type": "code",
   "execution_count": 31,
   "metadata": {
    "collapsed": false
   },
   "outputs": [],
   "source": [
    "# Specify model\n",
    "model = models.HarmonicOscillator(stiffness=np.ones(dim), rp=None)\n",
    "# Initialise integrator\n",
    "integrator = integrators.EulerHamDyn(model, stepsize=.1)\n",
    "# Initialise Outputsheduler\n",
    "op= outp.BufferedOutputshedulerU(integrator, Nsteps=300, varname_list=['position','momentum'], modprnt=1)\n",
    "# Initialise particles on a disc\n",
    "dim =100\n",
    "alpha = np.linspace(0,2*np.pi,dim)\n",
    "position0 = .5*np.cos(alpha)\n",
    "momentum0= 1 + .5*np.sin(alpha)\n",
    "initial_values={'momentum': momentum0, 'position': position0}\n",
    "# Run simulation\n",
    "integrator.run(initial_values=initial_values)"
   ]
  },
  {
   "cell_type": "markdown",
   "metadata": {},
   "source": [
    "The following code fragment plots the enclosed volume at different points in time:"
   ]
  },
  {
   "cell_type": "code",
   "execution_count": 32,
   "metadata": {
    "collapsed": false,
    "scrolled": false
   },
   "outputs": [
    {
     "data": {
      "image/png": "[encoded data removed]",
      "text/plain": [
       "<matplotlib.figure.Figure at 0x1187f0d68>"
      ]
     },
     "metadata": {},
     "output_type": "display_data"
    }
   ],
   "source": [
    "#%%\n",
    "import matplotlib.animation as animation\n",
    "import matplotlib.patches as patches\n",
    "\n",
    "# Specify frequency at which volumes is plotted\n",
    "modplot = 50  \n",
    "# Spefiy figure properties\n",
    "fig = plt.figure()\n",
    "ax = fig.add_subplot(111)\n",
    "ax.set_xlim(-5,5)\n",
    "ax.set_ylim(-5,5)\n",
    "ax.set_xlabel('$q$')\n",
    "ax.set_ylabel('$p$')\n",
    "ax.set_title('Volume')\n",
    "\n",
    "\n",
    "#Plot volumes\n",
    "t_vec = np.arange(0,op.Nsteps,modplot)\n",
    "for i in t_vec:\n",
    "    v= np.array([op.traj_position[i,:], op.traj_momentum[i,:]]).transpose()\n",
    "    go= patches.Polygon(v,closed=True, fc='r', ec='r',alpha=.5)\n",
    "    patch=ax.add_patch(go)\n",
    "    \n",
    "plt.show()"
   ]
  },
  {
   "cell_type": "markdown",
   "metadata": {},
   "source": [
    "Plot the enclosed volume as a function of time. You can use the function `PolyArea(x,y)` defined below to compute the voume"
   ]
  },
  {
   "cell_type": "code",
   "execution_count": 33,
   "metadata": {
    "collapsed": true
   },
   "outputs": [],
   "source": [
    "def PolyArea(x,y):\n",
    "    return 0.5*np.abs(np.dot(x,np.roll(y,1))-np.dot(y,np.roll(x,1)))"
   ]
  },
  {
   "cell_type": "code",
   "execution_count": null,
   "metadata": {
    "collapsed": true
   },
   "outputs": [],
   "source": []
  },
  {
   "cell_type": "markdown",
   "metadata": {},
   "source": [
    "### 3) Time reversibility\n",
    "The below code generates 2 trajectories. First, one trajectory is generated by evolving the position and momenta of a particle starting at q=0,p=0 for 50 steps forward in time. Then, a second trajectory is generated starting at the last position in phase space of the first trajectory by evolving the system backward in time. What do we expect to happen for a time reversible dynamics, and what do we expect to happen for a not time reversible dynamics?"
   ]
  },
  {
   "cell_type": "code",
   "execution_count": 34,
   "metadata": {
    "collapsed": false
   },
   "outputs": [],
   "source": [
    "dim = 1\n",
    "model = models.HarmonicOscillator(stiffness=np.ones(dim), rp=None)\n",
    "#sampler = VelocityVerlet(model, stepsize=.1)        \n",
    "integrator = integrators.EulerHamDyn(model, stepsize=.1)\n",
    "\n",
    "#Initialising an outputsheduler. The \n",
    "op_forward= outp.BufferedOutputshedulerU(integrator, Nsteps=50, varname_list=['position','momentum'], modprnt=1)\n",
    "#Add the outputsheduler to the sampler\n",
    "integrator.outputsheduler = op_forward\n",
    "#Specify initial conditions\n",
    "initial_values={'momentum': np.array([1.0]), 'position': np.array([0.0])}\n",
    "#Simulate forward in time\n",
    "integrator.run(initial_values=initial_values)\n",
    "\n",
    "#Specify integrator which will simulate backward in time \n",
    "\n",
    "integrator = integrators.EulerHamDyn(model, stepsize=-.1)\n",
    "#Initialising an outputsheduler used for the backward in time simultion\n",
    "op_backward= outp.BufferedOutputshedulerU(integrator, Nsteps=50, varname_list=['position','momentum'], modprnt=1)\n",
    "#Add the outputsheduler to the sampler\n",
    "integrator.outputsheduler = op_backward\n",
    "#Specify initial conditions\n",
    "initial_values={'momentum': np.copy(op_forward.traj_momentum[-1,:]), 'position': np.copy(op_forward.traj_position[-1,:])}\n",
    "#Simulate forward in time\n",
    "integrator.run(initial_values=initial_values)"
   ]
  },
  {
   "cell_type": "code",
   "execution_count": 78,
   "metadata": {
    "collapsed": false
   },
   "outputs": [
    {
     "data": {
      "image/png": "[encoded data removed]",
      "text/plain": [
       "<matplotlib.figure.Figure at 0x11a4f10f0>"
      ]
     },
     "metadata": {},
     "output_type": "display_data"
    }
   ],
   "source": [
    "fig, ax = plt.subplots()\n",
    "ax.plot(op_forward.traj_position,op_forward.traj_momentum,'r+',label=\"Forward in time\")\n",
    "ax.plot(op_backward.traj_position,op_backward.traj_momentum,'bx',label=\"Backward in time\")\n",
    "ax.legend()\n",
    "ax.set_xlabel('Position')\n",
    "ax.set_ylabel('Momentum')\n",
    "plt.show()"
   ]
  },
  {
   "cell_type": "code",
   "execution_count": null,
   "metadata": {
    "collapsed": true
   },
   "outputs": [],
   "source": []
  }
 ],
 "metadata": {
  "anaconda-cloud": {},
  "kernelspec": {
   "display_name": "Python [conda env:anaconda]",
   "language": "python",
   "name": "conda-env-anaconda-py"
  },
  "language_info": {
   "codemirror_mode": {
    "name": "ipython",
    "version": 3
   },
   "file_extension": ".py",
   "mimetype": "text/x-python",
   "name": "python",
   "nbconvert_exporter": "python",
   "pygments_lexer": "ipython3",
   "version": "3.5.2"
  }
 },
 "nbformat": 4,
 "nbformat_minor": 2
}
